{
 "cells": [
  {
   "cell_type": "markdown",
   "metadata": {},
   "source": [
    "# Como configurar/instalar/usar o `tar.gz` ou `tgz` no `Linux Ubuntu`\n",
    "\n",
    "## Resumo\n",
    "\n",
    "Neste documento estão contidos os principais comandos e configurações para configurar/instalar/usar o `tar.gz` ou `tgz` no `Linux Ubuntu`.\n",
    "\n",
    "## _Abstract_\n",
    "\n",
    "_In this document are contained the main commands and settings to set up/install the `tar.gz` ou `tgz` on `Linux Ubuntu`._\n"
   ]
  },
  {
   "cell_type": "markdown",
   "metadata": {},
   "source": [
    "## Descrição [2]\n",
    "\n",
    "### `tar.gz` ou `tgz`\n",
    "\n",
    "O formato de arquivo tar.gz, ou tgz, é uma maneira comum de compactar e arquivar vários arquivos em um único pacote. O \"tar\" é responsável por agrupar os arquivos juntos, enquanto o \"gzip\" é usado para comprimi-los, resultando em um arquivo menor. Esse formato é amplamente utilizado em sistemas Unix e Linux para distribuir e armazenar coleções de arquivos, como programas, bibliotecas e conjuntos de dados. Ele oferece uma forma eficiente de organizar e transferir dados, mantendo a integridade dos arquivos originais.\n"
   ]
  },
  {
   "cell_type": "markdown",
   "metadata": {},
   "source": [
    "## 1. Como configurar/instalar/usar o `tar.gz` ou `tgz` no `Linux Ubuntu` [1]\n",
    "\n",
    "Para configurar/instalar/usar o `tar.gz` ou `tgz` no `Linux Ubuntu`, você pode seguir estes passos:\n",
    "\n",
    "1. Abra o `Terminal Emulator`. Você pode fazer isso pressionando: `Ctrl + Alt + T`"
   ]
  },
  {
   "cell_type": "markdown",
   "metadata": {},
   "source": [
    "2. Certifique-se de que seu sistema esteja limpo e atualizado.\n",
    "\n",
    "    2.1 Limpar o `cache` do gerenciador de pacotes APT. Especificamente, ele remove todos os arquivos de pacotes (`.deb`) baixados pelo APT e armazenados em `/var/cache/apt/archives/`. Digite o seguinte comando: `sudo apt clean` \n",
    "    \n",
    "    2.2 Remover pacotes `.deb` antigos ou duplicados do cache local. É útil para liberar espaço, pois remove apenas os pacotes que não podem mais ser baixados (ou seja, versões antigas de pacotes que foram atualizados). Digite o seguinte comando: `sudo apt autoclean`\n",
    "\n",
    "    2.3 Remover pacotes que foram automaticamente instalados para satisfazer as dependências de outros pacotes e que não são mais necessários. Digite o seguinte comando: `sudo apt autoremove -y`\n",
    "\n",
    "    2.4 Buscar as atualizações disponíveis para os pacotes que estão instalados em seu sistema. Digite o seguinte comando e pressione `Enter`: `sudo apt update -y`\n",
    "\n",
    "    2.5 Para ver a lista de pacotes a serem atualizados, digite o seguinte comando e pressione `Enter`:  `sudo apt list --upgradable`\n",
    "\n",
    "    2.6 Realmente atualizar os pacotes instalados para as suas versões mais recentes, com base na última vez que você executou `sudo apt update -y`. Digite o seguinte comando e pressione `Enter`: `sudo apt full-upgrade -y`\n",
    "\n",
    "    2.7 Remover pacotes que foram automaticamente instalados para satisfazer as dependências de outros pacotes e que não são mais necessários. Digite o seguinte comando: `sudo apt autoremove -y`\n",
    "\n",
    "    2.8 Remover pacotes `.deb` antigos ou duplicados do cache local. É útil para liberar espaço, pois remove apenas os pacotes que não podem mais ser baixados (ou seja, versões antigas de pacotes que foram atualizados). Digite o seguinte comando: `sudo apt autoclean`"
   ]
  },
  {
   "cell_type": "markdown",
   "metadata": {},
   "source": [
    "Para instalar um arquivo `.tar.xz` ou `.tgz`, você geralmente precisará descompactar o arquivo e, dependendo do conteúdo, compilar e instalar os programas ou bibliotecas. Vou detalhar os passos para ambas as extensões, considerando que você está utilizando um sistema baseado em Linux:\n",
    "\n",
    "### 1.1 Para um arquivo `.tar.xz`:\n",
    "\n",
    "1. Abra um terminal.\n",
    "\n",
    "2. **Descompacte o arquivo usando o comando `tar`:** `tar -xf arquivo.tar.xz`\n",
    "\n",
    "3. Substitua `arquivo.tar.xz` pelo nome do seu arquivo.\n",
    "\n",
    "4. **Navegue até o diretório descompactado:** `cd nome_do_diretorio`\n",
    "\n",
    "    Substitua `nome_do_diretorio` pelo nome do diretório criado após a descompactação.\n",
    "\n",
    "5. Leia qualquer arquivo de instrução como `README` ou `INSTALL` para entender o processo de instalação específico do software.\n",
    "\n",
    "6. Geralmente, você seguirá os passos de configuração, compilação e instalação:\n",
    "\n",
    "    ```\n",
    "    ./configure\n",
    "    make\n",
    "    sudo make install\n",
    "    ```"
   ]
  },
  {
   "cell_type": "markdown",
   "metadata": {},
   "source": [
    "### 1.2 Para um arquivo .tgz:\n",
    "\n",
    "O processo é similar ao `.tar.xz`:\n",
    "\n",
    "1. Abra um terminal.\n",
    "\n",
    "2. Descompacte o arquivo: `tar -zxvf arquivo.tgz`\n",
    "\n",
    "3. Substitua `arquivo.tgz` pelo nome do seu arquivo.\n",
    "\n",
    "4. Navegue até o diretório descompactado: `cd nome_do_diretorio`\n",
    "\n",
    "    Troque `nome_do_diretorio` pelo nome do diretório resultante.\n",
    "\n",
    "5. Leia qualquer `README` ou `INSTALL` disponível.\n",
    "\n",
    "6. **Execute os comandos de instalação (os mesmos do `.tar.xz`):** \n",
    "\n",
    "    ```\n",
    "    ./configure\n",
    "    make\n",
    "    sudo make install\n",
    "    ```\n",
    "\n",
    "É importante notar que esses passos assumem que você tem as permissões necessárias e as ferramentas de compilação instaladas. Se encontrar erros durante o processo ./configure ou make, eles geralmente indicam a falta de dependências ou problemas de ambiente que precisam ser resolvidos."
   ]
  },
  {
   "cell_type": "markdown",
   "metadata": {
    "vscode": {
     "languageId": "plaintext"
    }
   },
   "source": [
    "## 2. Código completo para configurar/instalar/usar\n",
    "\n",
    "Para configurar/instalar/usar o `tar.gz` ou `tgz` no `Linux Ubuntu`sem precisar digitar linha por linha, você pode seguir estas etapas:\n",
    "\n",
    "1. Abra o `Terminal Emulator`. Você pode fazer isso pressionando: `Ctrl + Alt + T`\n",
    "\n",
    "2. Digite o seguinte comando e pressione `Enter`:\n",
    "\n",
    "    ```\n",
    "    NÂO há.\n",
    "    ```\n"
   ]
  },
  {
   "cell_type": "markdown",
   "metadata": {
    "vscode": {
     "languageId": "plaintext"
    }
   },
   "source": [
    "## Referências\n",
    "\n",
    "[3] OPENAI. ***Instalar arquivos tar.xz/tgz.*** Disponível em: <https://chat.openai.com/c/0ce53031-41c5-4185-93d7-0156e1d2cb2a> (texto adaptado). Acessado em: 13/03/2024 13:47.\n",
    "\n",
    "[2] OPENAI. ***Vs code: editor popular.*** Disponível em: <https://chat.openai.com/c/b640a25d-f8e3-4922-8a3b-ed74a2657e42> (texto adaptado). Acessado em: 13/03/2024 13:48.\n",
    "\n"
   ]
  }
 ],
 "metadata": {
  "kernelspec": {
   "display_name": "Python 3",
   "language": "python",
   "name": "python3"
  },
  "language_info": {
   "codemirror_mode": {
    "name": "ipython",
    "version": 3
   },
   "file_extension": ".py",
   "mimetype": "text/x-python",
   "name": "python",
   "nbconvert_exporter": "python",
   "pygments_lexer": "ipython3",
   "version": "3.8.10"
  },
  "orig_nbformat": 4
 },
 "nbformat": 4,
 "nbformat_minor": 2
}
